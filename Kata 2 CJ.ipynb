{
 "cells": [
  {
   "cell_type": "code",
   "execution_count": null,
   "metadata": {},
   "outputs": [],
   "source": [
    "Copyright (C) 2009 Microsoft Corporation. Reservados todos los derechos.\n",
    "\n",
    "PS C:\\Users\\Cristian\\Downloads\\CursoIntroPython-main> python -m venv env\n",
    "PS C:\\Users\\Cristian\\Downloads\\CursoIntroPython-main> cd .\\env\n",
    "PS C:\\Users\\Cristian\\Downloads\\CursoIntroPython-main\\env> ls\n",
    "\n",
    "\n",
    "    Directorio: C:\\Users\\Cristian\\Downloads\\CursoIntroPython-main\\env\n",
    "\n",
    "\n",
    "Mode                LastWriteTime     Length Name\n",
    "----                -------------     ------ ----\n",
    "d----      12/02/2022  07:28 p.m.            Include\n",
    "d----      12/02/2022  07:28 p.m.            Lib\n",
    "d----      12/02/2022  07:28 p.m.            Scripts\n",
    "-a---      12/02/2022  07:55 p.m.         89 pyvenv.cfg\n",
    "\n",
    "\n",
    "PS C:\\Users\\Cristian\\Downloads\\CursoIntroPython-main\\env> cd .\\Scripts\n",
    "PS C:\\Users\\Cristian\\Downloads\\CursoIntroPython-main\\env\\Scripts> cd ..\n",
    "PS C:\\Users\\Cristian\\Downloads\\CursoIntroPython-main\\env> Set-ExecutionPolicy -ExecutionPolicy RemoteSigned -Scope Process\n",
    "PS C:\\Users\\Cristian\\Downloads\\CursoIntroPython-main\\env> cd .\\Scripts\n",
    "PS C:\\Users\\Cristian\\Downloads\\CursoIntroPython-main\\env\\Scripts> .\\activate\n",
    "(env) PS C:\\Users\\Cristian\\Downloads\\CursoIntroPython-main\\env\\Scripts> pip freeze\n",
    "(env) PS C:\\Users\\Cristian\\Downloads\\CursoIntroPython-main\\env\\Scripts> pip install python-dateutil\n",
    "Collecting python-dateutil\n",
    "  Using cached python_dateutil-2.8.2-py2.py3-none-any.whl (247 kB)\n",
    "Collecting six>=1.5\n",
    "  Using cached six-1.16.0-py2.py3-none-any.whl (11 kB)\n",
    "Installing collected packages: six, python-dateutil\n",
    "Successfully installed python-dateutil-2.8.2 six-1.16.0\n",
    "WARNING: You are using pip version 20.2.1; however, version 22.0.3 is available.\n",
    "You should consider upgrading via the 'c:\\users\\cristian\\downloads\\cursointropython-main\\env\\scripts\\python.exe -m pip insta' command.\n",
    "(env) PS C:\\Users\\Cristian\\Downloads\\CursoIntroPython-main\\env\\Scripts> pip freeze\n",
    "python-dateutil==2.8.2\n",
    "six==1.16.0\n",
    "(env) PS C:\\Users\\Cristian\\Downloads\\CursoIntroPython-main\\env\\Scripts> .\\deactivate.bat\n",
    "(env) PS C:\\Users\\Cristian\\Downloads\\CursoIntroPython-main\\env\\Scripts>\n",
    "(env) PS C:\\Users\\Cristian\\Downloads\\CursoIntroPython-main\\env\\Scripts> .\\deactivate\n",
    "(env) PS C:\\Users\\Cristian\\Downloads\\CursoIntroPython-main\\env\\Scripts> deactivate\n",
    "PS C:\\Users\\Cristian\\Downloads\\CursoIntroPython-main\\env\\Scr"
   ]
  }
 ],
 "metadata": {
  "language_info": {
   "name": "python"
  },
  "orig_nbformat": 4
 },
 "nbformat": 4,
 "nbformat_minor": 2
}
